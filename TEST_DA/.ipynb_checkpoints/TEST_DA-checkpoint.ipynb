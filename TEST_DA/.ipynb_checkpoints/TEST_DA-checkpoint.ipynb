{
 "cells": [
  {
   "cell_type": "markdown",
   "id": "cf52d7c6",
   "metadata": {},
   "source": [
    "# QUESTION 1:"
   ]
  },
  {
   "cell_type": "markdown",
   "id": "cf3a8993",
   "metadata": {},
   "source": [
    "Samantha interviews many candidates from different colleges using\n",
    "challenges and contests. Write a query to print the contest_id, hacker_id,\n",
    "name, and the sums of total_submissions, total_accepted_submissions,\n",
    "total_views, and total_unique_views for each contest sorted by contest_id.\n",
    "Exclude the contest from the result if all four sums are 0."
   ]
  },
  {
   "cell_type": "code",
   "execution_count": 1,
   "id": "43774f53",
   "metadata": {},
   "outputs": [
    {
     "data": {
      "text/html": [
       "<img src=\"QUESTION_1.png\" width=\"800\" height=\"800\"/>"
      ],
      "text/plain": [
       "<IPython.core.display.Image object>"
      ]
     },
     "execution_count": 1,
     "metadata": {},
     "output_type": "execute_result"
    }
   ],
   "source": [
    "# import image module\n",
    "from IPython.display import Image\n",
    "  \n",
    "# get the image\n",
    "Image(url=\"QUESTION_1.png\", width=800, height=800)"
   ]
  },
  {
   "cell_type": "markdown",
   "id": "75318e95",
   "metadata": {},
   "source": [
    "select con.contest_id, con.hacker_id, con.name, \n",
    "       sum of total_submissions, \n",
    "       sum of total_accepted_submissions, \n",
    "       sum of total_views, sum of total_unique_views\n",
    "        \n",
    "    from contests con \n",
    "\n",
    "        join colleges col on con.contest_id = col.contest_id \n",
    "\n",
    "        join challenges cha on col.college_id = cha.college_id \n",
    "\n",
    "        left join (select challenge_id, sum(total_views) as sum of total_views, sum(total_unique_views) as sum of total_unique_views from view_stats group by challenge_id) vs on cha.challenge_id = vs.challenge_id \n",
    "\n",
    "        left join (select challenge_id, sum(total_submissions) as sum of total_submissions, sum(total_accepted_submissions) as sum of total_accepted_submissions from submission_stats group by challenge_id) ss on cha.challenge_id = ss.challenge_id\n",
    "\n",
    "    group by con.contest_id, con.hacker_id, con.name\n",
    "        \n",
    "    having sum of total_submissions !=0 or \n",
    "           sum of total_accepted_submissions !=0 or\n",
    "           sum of total_views !=0 or\n",
    "           sum of total_unique_views !=0\n",
    "\n",
    "    order by contest_id\n"
   ]
  },
  {
   "cell_type": "markdown",
   "id": "89c6b667",
   "metadata": {},
   "source": [
    "# QUESTION 2:"
   ]
  },
  {
   "cell_type": "markdown",
   "id": "a4323c1f",
   "metadata": {},
   "source": [
    "Write Clean the dataset and update the csv file (replace all column values\n",
    "which contain ?, n.a, or Nan).\n",
    "Count total cars per company.\n",
    "File csv: TEST_DATA.csv. (Program: Python)"
   ]
  },
  {
   "cell_type": "markdown",
   "id": "6dcc6f1f",
   "metadata": {},
   "source": [
    "## Replace all column values which contain ?, n.a, Nan "
   ]
  },
  {
   "cell_type": "code",
   "execution_count": 2,
   "id": "1d8605a4",
   "metadata": {},
   "outputs": [],
   "source": [
    "import pandas as pd\n",
    "import numpy as np"
   ]
  },
  {
   "cell_type": "code",
   "execution_count": 3,
   "id": "e6bfe60a",
   "metadata": {},
   "outputs": [],
   "source": [
    "df = pd.read_csv('data.csv')          "
   ]
  },
  {
   "cell_type": "code",
   "execution_count": 4,
   "id": "f819e96e",
   "metadata": {},
   "outputs": [
    {
     "data": {
      "text/html": [
       "<div>\n",
       "<style scoped>\n",
       "    .dataframe tbody tr th:only-of-type {\n",
       "        vertical-align: middle;\n",
       "    }\n",
       "\n",
       "    .dataframe tbody tr th {\n",
       "        vertical-align: top;\n",
       "    }\n",
       "\n",
       "    .dataframe thead th {\n",
       "        text-align: right;\n",
       "    }\n",
       "</style>\n",
       "<table border=\"1\" class=\"dataframe\">\n",
       "  <thead>\n",
       "    <tr style=\"text-align: right;\">\n",
       "      <th></th>\n",
       "      <th>index</th>\n",
       "      <th>company</th>\n",
       "      <th>name</th>\n",
       "      <th>price</th>\n",
       "    </tr>\n",
       "  </thead>\n",
       "  <tbody>\n",
       "    <tr>\n",
       "      <th>0</th>\n",
       "      <td>0</td>\n",
       "      <td>C1</td>\n",
       "      <td>1A</td>\n",
       "      <td>13495</td>\n",
       "    </tr>\n",
       "    <tr>\n",
       "      <th>1</th>\n",
       "      <td>1</td>\n",
       "      <td>C1</td>\n",
       "      <td>1B</td>\n",
       "      <td>16500</td>\n",
       "    </tr>\n",
       "    <tr>\n",
       "      <th>2</th>\n",
       "      <td>2</td>\n",
       "      <td>C1</td>\n",
       "      <td>?</td>\n",
       "      <td>16500</td>\n",
       "    </tr>\n",
       "    <tr>\n",
       "      <th>3</th>\n",
       "      <td>3</td>\n",
       "      <td>n.a</td>\n",
       "      <td>2A</td>\n",
       "      <td>13950</td>\n",
       "    </tr>\n",
       "    <tr>\n",
       "      <th>4</th>\n",
       "      <td>4</td>\n",
       "      <td>Nan</td>\n",
       "      <td>2B</td>\n",
       "      <td>17450</td>\n",
       "    </tr>\n",
       "    <tr>\n",
       "      <th>5</th>\n",
       "      <td>5</td>\n",
       "      <td>C3</td>\n",
       "      <td>NaN</td>\n",
       "      <td>15250</td>\n",
       "    </tr>\n",
       "    <tr>\n",
       "      <th>6</th>\n",
       "      <td>6</td>\n",
       "      <td>C4</td>\n",
       "      <td>4A</td>\n",
       "      <td>18920</td>\n",
       "    </tr>\n",
       "    <tr>\n",
       "      <th>7</th>\n",
       "      <td>9</td>\n",
       "      <td>n.a</td>\n",
       "      <td>4B</td>\n",
       "      <td>16430</td>\n",
       "    </tr>\n",
       "    <tr>\n",
       "      <th>8</th>\n",
       "      <td>10</td>\n",
       "      <td>C4</td>\n",
       "      <td>4C</td>\n",
       "      <td>16925</td>\n",
       "    </tr>\n",
       "  </tbody>\n",
       "</table>\n",
       "</div>"
      ],
      "text/plain": [
       "   index company name  price\n",
       "0      0      C1   1A  13495\n",
       "1      1      C1   1B  16500\n",
       "2      2      C1    ?  16500\n",
       "3      3     n.a   2A  13950\n",
       "4      4     Nan   2B  17450\n",
       "5      5      C3  NaN  15250\n",
       "6      6      C4   4A  18920\n",
       "7      9     n.a   4B  16430\n",
       "8     10      C4   4C  16925"
      ]
     },
     "execution_count": 4,
     "metadata": {},
     "output_type": "execute_result"
    }
   ],
   "source": [
    "df.head(10)"
   ]
  },
  {
   "cell_type": "code",
   "execution_count": 5,
   "id": "70c4e6dc",
   "metadata": {},
   "outputs": [
    {
     "data": {
      "text/plain": [
       "C1     3\n",
       "n.a    2\n",
       "C4     2\n",
       "Nan    1\n",
       "C3     1\n",
       "Name: company, dtype: int64"
      ]
     },
     "execution_count": 5,
     "metadata": {},
     "output_type": "execute_result"
    }
   ],
   "source": [
    "df['company'].value_counts()"
   ]
  },
  {
   "cell_type": "markdown",
   "id": "fe9a9363",
   "metadata": {},
   "source": [
    "Pandas consider n.a, Nan as company's name"
   ]
  },
  {
   "cell_type": "code",
   "execution_count": 6,
   "id": "f4ed938f",
   "metadata": {},
   "outputs": [
    {
     "name": "stdout",
     "output_type": "stream",
     "text": [
      "Column index: has 0 missing entries, 0.0%\n",
      "Column company: has 0 missing entries, 0.0%\n",
      "Column name: has 1 missing entries, 11.11111111111111%\n",
      "Column price: has 0 missing entries, 0.0%\n"
     ]
    }
   ],
   "source": [
    "for col in df.columns:\n",
    "    missing_data = df[col].isna().sum()\n",
    "    perc = missing_data / len(df) * 100\n",
    "    print(f\"Column {col}: has {missing_data} missing entries, {perc}%\")"
   ]
  },
  {
   "cell_type": "markdown",
   "id": "5f9afb92",
   "metadata": {},
   "source": [
    "Pandas consider #N/A, -NaN, -n/a, N/A, NULL etc as NaN value"
   ]
  },
  {
   "cell_type": "markdown",
   "id": "a4c2458a",
   "metadata": {},
   "source": [
    "Pandas not consider ?, n.a, Nan as NaN"
   ]
  },
  {
   "cell_type": "markdown",
   "id": "c1d0bbb1",
   "metadata": {},
   "source": [
    "### Using na_values to replace all comlumn values which contain ?, n.a, Nan"
   ]
  },
  {
   "cell_type": "markdown",
   "id": "ff363a81",
   "metadata": {},
   "source": [
    "The na_values parameter is used to tell pandas they consider “?,n.a,Nan” as NaN value and print NaN at the place of “?,n,a,Nan”"
   ]
  },
  {
   "cell_type": "code",
   "execution_count": 7,
   "id": "b4f8156e",
   "metadata": {},
   "outputs": [],
   "source": [
    "# creat collection\n",
    "set = {\"?\",\"n.a\",\"Nan\"}\n",
    "# read a csv file\n",
    "df_1 = pd.read_csv('data.csv', na_values = set)"
   ]
  },
  {
   "cell_type": "code",
   "execution_count": 8,
   "id": "c6b38d48",
   "metadata": {},
   "outputs": [
    {
     "name": "stdout",
     "output_type": "stream",
     "text": [
      "   index company name  price\n",
      "0      0      C1   1A  13495\n",
      "1      1      C1   1B  16500\n",
      "2      2      C1  NaN  16500\n",
      "3      3     NaN   2A  13950\n",
      "4      4     NaN   2B  17450\n",
      "5      5      C3  NaN  15250\n",
      "6      6      C4   4A  18920\n",
      "7      9     NaN   4B  16430\n",
      "8     10      C4   4C  16925\n"
     ]
    }
   ],
   "source": [
    "# show the dataframe\n",
    "print(df_1)"
   ]
  },
  {
   "cell_type": "markdown",
   "id": "171e6ba2",
   "metadata": {},
   "source": [
    "## Count total cars per company"
   ]
  },
  {
   "cell_type": "code",
   "execution_count": 9,
   "id": "9f28e65f",
   "metadata": {},
   "outputs": [
    {
     "data": {
      "text/plain": [
       "C1    3\n",
       "C4    2\n",
       "C3    1\n",
       "Name: company, dtype: int64"
      ]
     },
     "execution_count": 9,
     "metadata": {},
     "output_type": "execute_result"
    }
   ],
   "source": [
    "df_1['company'].value_counts()"
   ]
  },
  {
   "cell_type": "markdown",
   "id": "441a5449",
   "metadata": {},
   "source": [
    "# QUESTION 3:"
   ]
  },
  {
   "cell_type": "markdown",
   "id": "694d3d32",
   "metadata": {},
   "source": [
    "You are given an array prices where prices[i] is the price of a given stock on\n",
    "the i-th day. You want to maximize your profit choosing a single day to buy\n",
    "one stock and choosing a different day in the future to sell that stock.\n",
    "Return the maximum profit you can achieve from this transaction. If you\n",
    "cannot achieve any profit, return 0. (Program: Python)"
   ]
  },
  {
   "cell_type": "code",
   "execution_count": 10,
   "id": "8b972c56",
   "metadata": {},
   "outputs": [],
   "source": [
    "list=[7,1,5,3,6,4]\n",
    "def maxProfit():\n",
    "    max=0\n",
    "    for i in range (len(list)):\n",
    "        for j in range ( i+1, len(list)):\n",
    "            profit =  list [j] - list [i]\n",
    "            if profit > max:\n",
    "                max = profit\n",
    "    print (\"max profit = \",max)"
   ]
  },
  {
   "cell_type": "code",
   "execution_count": 11,
   "id": "479a2624",
   "metadata": {},
   "outputs": [
    {
     "name": "stdout",
     "output_type": "stream",
     "text": [
      "max profit =  5\n"
     ]
    }
   ],
   "source": [
    "maxProfit()"
   ]
  }
 ],
 "metadata": {
  "kernelspec": {
   "display_name": "Python 3 (ipykernel)",
   "language": "python",
   "name": "python3"
  },
  "language_info": {
   "codemirror_mode": {
    "name": "ipython",
    "version": 3
   },
   "file_extension": ".py",
   "mimetype": "text/x-python",
   "name": "python",
   "nbconvert_exporter": "python",
   "pygments_lexer": "ipython3",
   "version": "3.9.12"
  }
 },
 "nbformat": 4,
 "nbformat_minor": 5
}
