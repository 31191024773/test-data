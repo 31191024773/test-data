{
 "cells": [
  {
   "cell_type": "code",
   "execution_count": 1,
   "id": "9ddb8f98",
   "metadata": {},
   "outputs": [],
   "source": [
    "import pandas as pd\n",
    "import numpy as np\n",
    "import seaborn as sns\n",
    "import matplotlib.pyplot as plt\n",
    "import matplotlib.ticker as ticker"
   ]
  },
  {
   "cell_type": "code",
   "execution_count": 2,
   "id": "4ea5e98c",
   "metadata": {},
   "outputs": [],
   "source": [
    "plt.style.use('seaborn')"
   ]
  },
  {
   "cell_type": "code",
   "execution_count": 3,
   "id": "9dd3bfa6",
   "metadata": {},
   "outputs": [],
   "source": [
    "xlsx = pd.ExcelFile('data.xlsx')"
   ]
  },
  {
   "cell_type": "code",
   "execution_count": 4,
   "id": "86b317a0",
   "metadata": {},
   "outputs": [
    {
     "data": {
      "text/plain": [
       "No. of billing               False\n",
       "SKU                          False\n",
       "Quantity Sale                False\n",
       "Revenue                      False\n",
       "NAME OF ASM  (FIRST NAME)    False\n",
       "NAME OF ASM  (LAST NAME)     False\n",
       "DATE                         False\n",
       "Area                         False\n",
       "Region                       False\n",
       "dtype: bool"
      ]
     },
     "execution_count": 4,
     "metadata": {},
     "output_type": "execute_result"
    }
   ],
   "source": [
    "df = pd.read_excel(xlsx,'Data_Quarter2')\n",
    "df.isnull().any()"
   ]
  },
  {
   "cell_type": "code",
   "execution_count": 5,
   "id": "87e93b76",
   "metadata": {},
   "outputs": [
    {
     "data": {
      "text/plain": [
       "(740, 9)"
      ]
     },
     "execution_count": 5,
     "metadata": {},
     "output_type": "execute_result"
    }
   ],
   "source": [
    "df.shape"
   ]
  },
  {
   "cell_type": "code",
   "execution_count": 6,
   "id": "44e41e91",
   "metadata": {},
   "outputs": [
    {
     "data": {
      "text/plain": [
       "No. Billing             False\n",
       "Sum of Revenue          False\n",
       "Sum of Quantity Sale    False\n",
       "Sale Point              False\n",
       "Area                    False\n",
       "dtype: bool"
      ]
     },
     "execution_count": 6,
     "metadata": {},
     "output_type": "execute_result"
    }
   ],
   "source": [
    "df2 = pd.read_excel(xlsx,'Data_Ques2')\n",
    "df2.isnull().any()"
   ]
  },
  {
   "cell_type": "code",
   "execution_count": 7,
   "id": "03a0f451",
   "metadata": {},
   "outputs": [
    {
     "data": {
      "text/plain": [
       "(388, 5)"
      ]
     },
     "execution_count": 7,
     "metadata": {},
     "output_type": "execute_result"
    }
   ],
   "source": [
    "df2.shape"
   ]
  },
  {
   "cell_type": "code",
   "execution_count": 8,
   "id": "61752297",
   "metadata": {},
   "outputs": [
    {
     "data": {
      "text/plain": [
       "SKU                            False\n",
       "No. of Inventory\\nProvinces    False\n",
       "Quantity sale of Provinces     False\n",
       "Stock Cover of Provinces       False\n",
       "Short in invetory               True\n",
       "dtype: bool"
      ]
     },
     "execution_count": 8,
     "metadata": {},
     "output_type": "execute_result"
    }
   ],
   "source": [
    "pro_df = pd.read_excel(xlsx,'Ques3_Pro')\n",
    "pro_df.isnull().any()"
   ]
  },
  {
   "cell_type": "code",
   "execution_count": 9,
   "id": "8017b090",
   "metadata": {},
   "outputs": [
    {
     "data": {
      "text/plain": [
       "(220, 5)"
      ]
     },
     "execution_count": 9,
     "metadata": {},
     "output_type": "execute_result"
    }
   ],
   "source": [
    "pro_df.shape"
   ]
  },
  {
   "cell_type": "code",
   "execution_count": 10,
   "id": "5d404005",
   "metadata": {},
   "outputs": [
    {
     "data": {
      "text/plain": [
       "SKU                            False\n",
       "No. of Inventory\\nHCM Areas    False\n",
       "Quantity sale of HCM Areas     False\n",
       "Stock Cover of HCM Areas       False\n",
       "Short in invetory               True\n",
       "dtype: bool"
      ]
     },
     "execution_count": 10,
     "metadata": {},
     "output_type": "execute_result"
    }
   ],
   "source": [
    "hcm_df = pd.read_excel(xlsx,'Ques3_HCM')\n",
    "hcm_df.isnull().any()"
   ]
  },
  {
   "cell_type": "code",
   "execution_count": 11,
   "id": "6d36bd4b",
   "metadata": {},
   "outputs": [
    {
     "data": {
      "text/plain": [
       "(135, 5)"
      ]
     },
     "execution_count": 11,
     "metadata": {},
     "output_type": "execute_result"
    }
   ],
   "source": [
    "hcm_df.shape"
   ]
  },
  {
   "cell_type": "markdown",
   "id": "3c042b9a",
   "metadata": {},
   "source": [
    "# Revenue"
   ]
  },
  {
   "cell_type": "code",
   "execution_count": 12,
   "id": "a2a6471d",
   "metadata": {},
   "outputs": [
    {
     "data": {
      "image/png": "[encoded data removed]",
      "text/plain": [
       "<Figure size 576x396 with 1 Axes>"
      ]
     },
     "metadata": {},
     "output_type": "display_data"
    }
   ],
   "source": [
    "ax = sns.barplot(x='Area',y='Revenue',estimator=np.mean, data = df.sort_values('Revenue', ascending=False));\n",
    "plot = ax.set_xticklabels(ax.get_xticklabels(), rotation=90)\n",
    "ax.yaxis.set_major_formatter(ticker.FuncFormatter(lambda x, pos:'{:,.0f}'.format(x/1000000) + 'M'))"
   ]
  },
  {
   "cell_type": "code",
   "execution_count": 13,
   "id": "7ba02196",
   "metadata": {},
   "outputs": [],
   "source": [
    "df['MONTH'] = df['DATE'].apply(lambda x: x.strftime(\"%m\")) "
   ]
  },
  {
   "cell_type": "code",
   "execution_count": 14,
   "id": "eec0f991",
   "metadata": {},
   "outputs": [
    {
     "data": {
      "text/plain": [
       "0      06\n",
       "1      06\n",
       "2      06\n",
       "3      05\n",
       "4      04\n",
       "       ..\n",
       "735    05\n",
       "736    06\n",
       "737    06\n",
       "738    06\n",
       "739    06\n",
       "Name: MONTH, Length: 740, dtype: object"
      ]
     },
     "execution_count": 14,
     "metadata": {},
     "output_type": "execute_result"
    }
   ],
   "source": [
    "df['MONTH']"
   ]
  },
  {
   "cell_type": "code",
   "execution_count": 15,
   "id": "d9d34458",
   "metadata": {},
   "outputs": [
    {
     "data": {
      "image/png": "[encoded data removed]",
      "text/plain": [
       "<Figure size 576x396 with 1 Axes>"
      ]
     },
     "metadata": {},
     "output_type": "display_data"
    }
   ],
   "source": [
    "ax = sns.boxplot(data=df,x='MONTH',y='Revenue',palette='Blues');\n",
    "ax.yaxis.set_major_formatter(ticker.FuncFormatter(lambda x, pos:'{:,.0f}'.format(x/1000000) + 'M'))"
   ]
  },
  {
   "cell_type": "markdown",
   "id": "df676d2c",
   "metadata": {},
   "source": [
    "# Stock Cover"
   ]
  },
  {
   "cell_type": "markdown",
   "id": "09bf1881",
   "metadata": {},
   "source": [
    "### HCM Areas"
   ]
  },
  {
   "cell_type": "code",
   "execution_count": 16,
   "id": "cd77c9b9",
   "metadata": {},
   "outputs": [
    {
     "data": {
      "image/png": "[encoded data removed]",
      "text/plain": [
       "<Figure size 576x396 with 1 Axes>"
      ]
     },
     "metadata": {},
     "output_type": "display_data"
    }
   ],
   "source": [
    "sns.histplot(data = hcm_df, x = 'Stock Cover of HCM Areas', bins=50);"
   ]
  },
  {
   "cell_type": "code",
   "execution_count": 17,
   "id": "7e8c6722",
   "metadata": {},
   "outputs": [],
   "source": [
    "c_hcm = hcm_df[['SKU','Stock Cover of HCM Areas']]\n",
    "hcm = c_hcm.sort_values(by=['Stock Cover of HCM Areas'])"
   ]
  },
  {
   "cell_type": "code",
   "execution_count": 18,
   "id": "2434ef18",
   "metadata": {},
   "outputs": [
    {
     "data": {
      "text/html": [
       "<div>\n",
       "<style scoped>\n",
       "    .dataframe tbody tr th:only-of-type {\n",
       "        vertical-align: middle;\n",
       "    }\n",
       "\n",
       "    .dataframe tbody tr th {\n",
       "        vertical-align: top;\n",
       "    }\n",
       "\n",
       "    .dataframe thead th {\n",
       "        text-align: right;\n",
       "    }\n",
       "</style>\n",
       "<table border=\"1\" class=\"dataframe\">\n",
       "  <thead>\n",
       "    <tr style=\"text-align: right;\">\n",
       "      <th></th>\n",
       "      <th>SKU</th>\n",
       "      <th>Stock Cover of HCM Areas</th>\n",
       "    </tr>\n",
       "  </thead>\n",
       "  <tbody>\n",
       "    <tr>\n",
       "      <th>27</th>\n",
       "      <td>Dialga</td>\n",
       "      <td>0.127273</td>\n",
       "    </tr>\n",
       "    <tr>\n",
       "      <th>26</th>\n",
       "      <td>Kangaskhan</td>\n",
       "      <td>0.164835</td>\n",
       "    </tr>\n",
       "    <tr>\n",
       "      <th>46</th>\n",
       "      <td>Shuppet</td>\n",
       "      <td>0.279661</td>\n",
       "    </tr>\n",
       "    <tr>\n",
       "      <th>31</th>\n",
       "      <td>Chesapeake</td>\n",
       "      <td>0.314286</td>\n",
       "    </tr>\n",
       "    <tr>\n",
       "      <th>6</th>\n",
       "      <td>Billings</td>\n",
       "      <td>0.508671</td>\n",
       "    </tr>\n",
       "    <tr>\n",
       "      <th>...</th>\n",
       "      <td>...</td>\n",
       "      <td>...</td>\n",
       "    </tr>\n",
       "    <tr>\n",
       "      <th>8</th>\n",
       "      <td>Reno</td>\n",
       "      <td>571.666667</td>\n",
       "    </tr>\n",
       "    <tr>\n",
       "      <th>118</th>\n",
       "      <td>Wolverhampton</td>\n",
       "      <td>592.500000</td>\n",
       "    </tr>\n",
       "    <tr>\n",
       "      <th>108</th>\n",
       "      <td>Lithium</td>\n",
       "      <td>631.000000</td>\n",
       "    </tr>\n",
       "    <tr>\n",
       "      <th>93</th>\n",
       "      <td>Spinda</td>\n",
       "      <td>666.000000</td>\n",
       "    </tr>\n",
       "    <tr>\n",
       "      <th>70</th>\n",
       "      <td>Sealeo</td>\n",
       "      <td>753.000000</td>\n",
       "    </tr>\n",
       "  </tbody>\n",
       "</table>\n",
       "<p>135 rows × 2 columns</p>\n",
       "</div>"
      ],
      "text/plain": [
       "               SKU  Stock Cover of HCM Areas\n",
       "27          Dialga                  0.127273\n",
       "26      Kangaskhan                  0.164835\n",
       "46         Shuppet                  0.279661\n",
       "31      Chesapeake                  0.314286\n",
       "6         Billings                  0.508671\n",
       "..             ...                       ...\n",
       "8             Reno                571.666667\n",
       "118  Wolverhampton                592.500000\n",
       "108        Lithium                631.000000\n",
       "93          Spinda                666.000000\n",
       "70          Sealeo                753.000000\n",
       "\n",
       "[135 rows x 2 columns]"
      ]
     },
     "execution_count": 18,
     "metadata": {},
     "output_type": "execute_result"
    }
   ],
   "source": [
    "hcm"
   ]
  },
  {
   "cell_type": "markdown",
   "id": "82c9d1ea",
   "metadata": {},
   "source": [
    "HCM areas have 135 SKUs"
   ]
  },
  {
   "cell_type": "code",
   "execution_count": 19,
   "id": "03576c68",
   "metadata": {},
   "outputs": [
    {
     "data": {
      "image/png": "[encoded data removed]",
      "text/plain": [
       "<Figure size 576x396 with 1 Axes>"
      ]
     },
     "metadata": {},
     "output_type": "display_data"
    }
   ],
   "source": [
    "sns.boxplot(data=hcm_df,y='Stock Cover of HCM Areas',palette='Blues');"
   ]
  },
  {
   "cell_type": "code",
   "execution_count": 20,
   "id": "c622b559",
   "metadata": {},
   "outputs": [
    {
     "data": {
      "text/html": [
       "<div>\n",
       "<style scoped>\n",
       "    .dataframe tbody tr th:only-of-type {\n",
       "        vertical-align: middle;\n",
       "    }\n",
       "\n",
       "    .dataframe tbody tr th {\n",
       "        vertical-align: top;\n",
       "    }\n",
       "\n",
       "    .dataframe thead th {\n",
       "        text-align: right;\n",
       "    }\n",
       "</style>\n",
       "<table border=\"1\" class=\"dataframe\">\n",
       "  <thead>\n",
       "    <tr style=\"text-align: right;\">\n",
       "      <th></th>\n",
       "      <th>No. of Inventory\\nHCM Areas</th>\n",
       "      <th>Quantity sale of HCM Areas</th>\n",
       "      <th>Stock Cover of HCM Areas</th>\n",
       "    </tr>\n",
       "  </thead>\n",
       "  <tbody>\n",
       "    <tr>\n",
       "      <th>count</th>\n",
       "      <td>135.000000</td>\n",
       "      <td>135.000000</td>\n",
       "      <td>135.000000</td>\n",
       "    </tr>\n",
       "    <tr>\n",
       "      <th>mean</th>\n",
       "      <td>299.170370</td>\n",
       "      <td>57.555556</td>\n",
       "      <td>87.319838</td>\n",
       "    </tr>\n",
       "    <tr>\n",
       "      <th>std</th>\n",
       "      <td>268.140516</td>\n",
       "      <td>81.339776</td>\n",
       "      <td>147.662930</td>\n",
       "    </tr>\n",
       "    <tr>\n",
       "      <th>min</th>\n",
       "      <td>7.000000</td>\n",
       "      <td>1.000000</td>\n",
       "      <td>0.127273</td>\n",
       "    </tr>\n",
       "    <tr>\n",
       "      <th>25%</th>\n",
       "      <td>87.500000</td>\n",
       "      <td>8.000000</td>\n",
       "      <td>6.281959</td>\n",
       "    </tr>\n",
       "    <tr>\n",
       "      <th>50%</th>\n",
       "      <td>215.000000</td>\n",
       "      <td>28.000000</td>\n",
       "      <td>27.369231</td>\n",
       "    </tr>\n",
       "    <tr>\n",
       "      <th>75%</th>\n",
       "      <td>484.000000</td>\n",
       "      <td>77.000000</td>\n",
       "      <td>83.875000</td>\n",
       "    </tr>\n",
       "    <tr>\n",
       "      <th>max</th>\n",
       "      <td>1715.000000</td>\n",
       "      <td>529.000000</td>\n",
       "      <td>753.000000</td>\n",
       "    </tr>\n",
       "  </tbody>\n",
       "</table>\n",
       "</div>"
      ],
      "text/plain": [
       "       No. of Inventory\\nHCM Areas  Quantity sale of HCM Areas  \\\n",
       "count                   135.000000                  135.000000   \n",
       "mean                    299.170370                   57.555556   \n",
       "std                     268.140516                   81.339776   \n",
       "min                       7.000000                    1.000000   \n",
       "25%                      87.500000                    8.000000   \n",
       "50%                     215.000000                   28.000000   \n",
       "75%                     484.000000                   77.000000   \n",
       "max                    1715.000000                  529.000000   \n",
       "\n",
       "       Stock Cover of HCM Areas  \n",
       "count                135.000000  \n",
       "mean                  87.319838  \n",
       "std                  147.662930  \n",
       "min                    0.127273  \n",
       "25%                    6.281959  \n",
       "50%                   27.369231  \n",
       "75%                   83.875000  \n",
       "max                  753.000000  "
      ]
     },
     "execution_count": 20,
     "metadata": {},
     "output_type": "execute_result"
    }
   ],
   "source": [
    "hcm_df.describe()"
   ]
  },
  {
   "cell_type": "markdown",
   "id": "82eadb13",
   "metadata": {},
   "source": [
    "### Provinces"
   ]
  },
  {
   "cell_type": "code",
   "execution_count": 21,
   "id": "6ec7d622",
   "metadata": {},
   "outputs": [
    {
     "data": {
      "image/png": "[encoded data removed]",
      "text/plain": [
       "<Figure size 576x396 with 1 Axes>"
      ]
     },
     "metadata": {},
     "output_type": "display_data"
    }
   ],
   "source": [
    "sns.histplot(data = pro_df, x = 'Stock Cover of Provinces', bins=50);"
   ]
  },
  {
   "cell_type": "code",
   "execution_count": 22,
   "id": "4e70fafe",
   "metadata": {},
   "outputs": [],
   "source": [
    "c_pro = pro_df [['SKU','Stock Cover of Provinces']]\n",
    "pro = c_pro.sort_values(by=['Stock Cover of Provinces'])"
   ]
  },
  {
   "cell_type": "code",
   "execution_count": 23,
   "id": "d67e614b",
   "metadata": {},
   "outputs": [
    {
     "data": {
      "text/html": [
       "<div>\n",
       "<style scoped>\n",
       "    .dataframe tbody tr th:only-of-type {\n",
       "        vertical-align: middle;\n",
       "    }\n",
       "\n",
       "    .dataframe tbody tr th {\n",
       "        vertical-align: top;\n",
       "    }\n",
       "\n",
       "    .dataframe thead th {\n",
       "        text-align: right;\n",
       "    }\n",
       "</style>\n",
       "<table border=\"1\" class=\"dataframe\">\n",
       "  <thead>\n",
       "    <tr style=\"text-align: right;\">\n",
       "      <th></th>\n",
       "      <th>SKU</th>\n",
       "      <th>Stock Cover of Provinces</th>\n",
       "    </tr>\n",
       "  </thead>\n",
       "  <tbody>\n",
       "    <tr>\n",
       "      <th>47</th>\n",
       "      <td>Magmortar</td>\n",
       "      <td>0.000000</td>\n",
       "    </tr>\n",
       "    <tr>\n",
       "      <th>29</th>\n",
       "      <td>Pittsburgh</td>\n",
       "      <td>0.000000</td>\n",
       "    </tr>\n",
       "    <tr>\n",
       "      <th>34</th>\n",
       "      <td>Murcia</td>\n",
       "      <td>0.011416</td>\n",
       "    </tr>\n",
       "    <tr>\n",
       "      <th>28</th>\n",
       "      <td>Iaşi</td>\n",
       "      <td>0.017241</td>\n",
       "    </tr>\n",
       "    <tr>\n",
       "      <th>48</th>\n",
       "      <td>Shuppet</td>\n",
       "      <td>0.023810</td>\n",
       "    </tr>\n",
       "    <tr>\n",
       "      <th>...</th>\n",
       "      <td>...</td>\n",
       "      <td>...</td>\n",
       "    </tr>\n",
       "    <tr>\n",
       "      <th>121</th>\n",
       "      <td>Philadelphia</td>\n",
       "      <td>229.500000</td>\n",
       "    </tr>\n",
       "    <tr>\n",
       "      <th>219</th>\n",
       "      <td>Horsea</td>\n",
       "      <td>321.000000</td>\n",
       "    </tr>\n",
       "    <tr>\n",
       "      <th>116</th>\n",
       "      <td>Raccoon</td>\n",
       "      <td>406.500000</td>\n",
       "    </tr>\n",
       "    <tr>\n",
       "      <th>194</th>\n",
       "      <td>Newcastle upon Tyne</td>\n",
       "      <td>408.000000</td>\n",
       "    </tr>\n",
       "    <tr>\n",
       "      <th>204</th>\n",
       "      <td>Llama</td>\n",
       "      <td>543.000000</td>\n",
       "    </tr>\n",
       "  </tbody>\n",
       "</table>\n",
       "<p>220 rows × 2 columns</p>\n",
       "</div>"
      ],
      "text/plain": [
       "                     SKU  Stock Cover of Provinces\n",
       "47             Magmortar                  0.000000\n",
       "29            Pittsburgh                  0.000000\n",
       "34                Murcia                  0.011416\n",
       "28                  Iaşi                  0.017241\n",
       "48               Shuppet                  0.023810\n",
       "..                   ...                       ...\n",
       "121         Philadelphia                229.500000\n",
       "219               Horsea                321.000000\n",
       "116              Raccoon                406.500000\n",
       "194  Newcastle upon Tyne                408.000000\n",
       "204                Llama                543.000000\n",
       "\n",
       "[220 rows x 2 columns]"
      ]
     },
     "execution_count": 23,
     "metadata": {},
     "output_type": "execute_result"
    }
   ],
   "source": [
    "pro"
   ]
  },
  {
   "cell_type": "markdown",
   "id": "9ec0d1fc",
   "metadata": {},
   "source": [
    "Provinces have 220 SKUs"
   ]
  },
  {
   "cell_type": "code",
   "execution_count": 24,
   "id": "68bc3026",
   "metadata": {},
   "outputs": [
    {
     "data": {
      "image/png": "[encoded data removed]",
      "text/plain": [
       "<Figure size 576x396 with 1 Axes>"
      ]
     },
     "metadata": {},
     "output_type": "display_data"
    }
   ],
   "source": [
    "sns.boxplot(data=pro_df,y='Stock Cover of Provinces',palette='Blues');"
   ]
  },
  {
   "cell_type": "code",
   "execution_count": 25,
   "id": "174d216e",
   "metadata": {},
   "outputs": [
    {
     "data": {
      "text/html": [
       "<div>\n",
       "<style scoped>\n",
       "    .dataframe tbody tr th:only-of-type {\n",
       "        vertical-align: middle;\n",
       "    }\n",
       "\n",
       "    .dataframe tbody tr th {\n",
       "        vertical-align: top;\n",
       "    }\n",
       "\n",
       "    .dataframe thead th {\n",
       "        text-align: right;\n",
       "    }\n",
       "</style>\n",
       "<table border=\"1\" class=\"dataframe\">\n",
       "  <thead>\n",
       "    <tr style=\"text-align: right;\">\n",
       "      <th></th>\n",
       "      <th>No. of Inventory\\nProvinces</th>\n",
       "      <th>Quantity sale of Provinces</th>\n",
       "      <th>Stock Cover of Provinces</th>\n",
       "    </tr>\n",
       "  </thead>\n",
       "  <tbody>\n",
       "    <tr>\n",
       "      <th>count</th>\n",
       "      <td>220.000000</td>\n",
       "      <td>220.000000</td>\n",
       "      <td>220.000000</td>\n",
       "    </tr>\n",
       "    <tr>\n",
       "      <th>mean</th>\n",
       "      <td>97.668182</td>\n",
       "      <td>99.463636</td>\n",
       "      <td>25.637711</td>\n",
       "    </tr>\n",
       "    <tr>\n",
       "      <th>std</th>\n",
       "      <td>100.813059</td>\n",
       "      <td>185.837543</td>\n",
       "      <td>64.091354</td>\n",
       "    </tr>\n",
       "    <tr>\n",
       "      <th>min</th>\n",
       "      <td>0.000000</td>\n",
       "      <td>1.000000</td>\n",
       "      <td>0.000000</td>\n",
       "    </tr>\n",
       "    <tr>\n",
       "      <th>25%</th>\n",
       "      <td>21.000000</td>\n",
       "      <td>10.000000</td>\n",
       "      <td>0.991796</td>\n",
       "    </tr>\n",
       "    <tr>\n",
       "      <th>50%</th>\n",
       "      <td>67.500000</td>\n",
       "      <td>34.000000</td>\n",
       "      <td>5.414062</td>\n",
       "    </tr>\n",
       "    <tr>\n",
       "      <th>75%</th>\n",
       "      <td>146.250000</td>\n",
       "      <td>100.500000</td>\n",
       "      <td>20.535000</td>\n",
       "    </tr>\n",
       "    <tr>\n",
       "      <th>max</th>\n",
       "      <td>526.000000</td>\n",
       "      <td>1486.000000</td>\n",
       "      <td>543.000000</td>\n",
       "    </tr>\n",
       "  </tbody>\n",
       "</table>\n",
       "</div>"
      ],
      "text/plain": [
       "       No. of Inventory\\nProvinces  Quantity sale of Provinces  \\\n",
       "count                   220.000000                  220.000000   \n",
       "mean                     97.668182                   99.463636   \n",
       "std                     100.813059                  185.837543   \n",
       "min                       0.000000                    1.000000   \n",
       "25%                      21.000000                   10.000000   \n",
       "50%                      67.500000                   34.000000   \n",
       "75%                     146.250000                  100.500000   \n",
       "max                     526.000000                 1486.000000   \n",
       "\n",
       "       Stock Cover of Provinces  \n",
       "count                220.000000  \n",
       "mean                  25.637711  \n",
       "std                   64.091354  \n",
       "min                    0.000000  \n",
       "25%                    0.991796  \n",
       "50%                    5.414062  \n",
       "75%                   20.535000  \n",
       "max                  543.000000  "
      ]
     },
     "execution_count": 25,
     "metadata": {},
     "output_type": "execute_result"
    }
   ],
   "source": [
    "pro_df.describe()"
   ]
  },
  {
   "cell_type": "markdown",
   "id": "ea9b5bef",
   "metadata": {},
   "source": [
    "### Provinces and HCM areas"
   ]
  },
  {
   "cell_type": "code",
   "execution_count": 27,
   "id": "067d7199",
   "metadata": {},
   "outputs": [
    {
     "data": {
      "image/png": "[encoded data removed]",
      "text/plain": [
       "<Figure size 720x360 with 2 Axes>"
      ]
     },
     "metadata": {},
     "output_type": "display_data"
    }
   ],
   "source": [
    "fig, ax = plt.subplots(1,2,figsize=(10,5))\n",
    "sns.scatterplot(data = hcm_df, x = 'No. of Inventory\\nHCM Areas', y = 'Quantity sale of HCM Areas', ax = ax[0]);\n",
    "sns.scatterplot(data = pro_df, x = 'No. of Inventory\\nProvinces', y = 'Quantity sale of Provinces', ax = ax[1]);"
   ]
  },
  {
   "cell_type": "markdown",
   "id": "30c5d060",
   "metadata": {},
   "source": [
    "We can see that the correlation between inventory and quantity sales is inverse. Specifically, with high quantity sales, the level of inventory stock is low. With the chart above, we can see that there are still some items that have a relatively small amount of inventory despite having a lot of quality sales.\n",
    "The inventory level in HCM areas is quite high compared to Provinces but quantity sales in Provinces is higher than in HCM areas. In general, HCM areas have only 4 branches while Provinces have 11 branches, so it is understandable why the quantity sales in Provinces is higher than in HCM areas. However, the inventory levels of the two regions are still not properly organized relative to the quantity sales."
   ]
  },
  {
   "cell_type": "markdown",
   "id": "29c6e641",
   "metadata": {},
   "source": [
    "# Sale point"
   ]
  },
  {
   "cell_type": "code",
   "execution_count": null,
   "id": "f2e4d88f",
   "metadata": {},
   "outputs": [],
   "source": [
    "sns.histplot(data = df2, x ='Sale Point', bins=50);"
   ]
  },
  {
   "cell_type": "code",
   "execution_count": null,
   "id": "f3f7f68e",
   "metadata": {},
   "outputs": [],
   "source": [
    "df2['No. Billing'].nunique()"
   ]
  },
  {
   "cell_type": "markdown",
   "id": "0a9fd5f7",
   "metadata": {},
   "source": [
    "There are 388 bills"
   ]
  },
  {
   "cell_type": "code",
   "execution_count": null,
   "id": "09b6d27c",
   "metadata": {},
   "outputs": [],
   "source": [
    "counts = df2['Sale Point'].value_counts().to_dict()"
   ]
  },
  {
   "cell_type": "code",
   "execution_count": null,
   "id": "69296e61",
   "metadata": {},
   "outputs": [],
   "source": [
    "counts"
   ]
  },
  {
   "cell_type": "markdown",
   "id": "63e3115c",
   "metadata": {},
   "source": [
    "The popular sale point is 1.5 for the amount of 270 bills.\n",
    "The remaining levels of sale points are quite modest such as 0.5 with 26 bills; 1 with 84 bills; 2 with 6 bills; 0 with 2 bills"
   ]
  }
 ],
 "metadata": {
  "kernelspec": {
   "display_name": "Python 3 (ipykernel)",
   "language": "python",
   "name": "python3"
  },
  "language_info": {
   "codemirror_mode": {
    "name": "ipython",
    "version": 3
   },
   "file_extension": ".py",
   "mimetype": "text/x-python",
   "name": "python",
   "nbconvert_exporter": "python",
   "pygments_lexer": "ipython3",
   "version": "3.9.12"
  }
 },
 "nbformat": 4,
 "nbformat_minor": 5
}
